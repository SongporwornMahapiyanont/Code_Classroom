{
 "cells": [
  {
   "cell_type": "code",
   "execution_count": 3,
   "metadata": {},
   "outputs": [],
   "source": [
    "import pandas as pd\n",
    "import numpy as np"
   ]
  },
  {
   "cell_type": "code",
   "execution_count": 15,
   "metadata": {},
   "outputs": [],
   "source": [
    "# อ่านข้อมูล\n"
   ]
  },
  {
   "cell_type": "code",
   "execution_count": 10,
   "metadata": {},
   "outputs": [
    {
     "name": "stdout",
     "output_type": "stream",
     "text": [
      "    outlook  temperature  humidity  windy play\n",
      "0         2            1         0      1   no\n",
      "1         2            1         0      0   no\n",
      "2         0            1         0      1  yes\n",
      "3         1            2         0      1  yes\n",
      "4         1            0         1      1  yes\n",
      "5         1            0         1      0   no\n",
      "6         0            0         1      0  yes\n",
      "7         2            2         0      1   no\n",
      "8         2            0         1      1  yes\n",
      "9         1            2         1      1  yes\n",
      "10        2            2         1      0  yes\n",
      "11        0            2         0      0  yes\n",
      "12        0            1         1      1  yes\n",
      "13        1            2         0      0   no\n"
     ]
    }
   ],
   "source": [
    "# encode temp and play columns.\n",
    "# Converting string labels into numbers\n",
    "\n",
    "# Import LabelEncoder\n",
    "from sklearn import preprocessing\n",
    "\n",
    "#creating labelEncoder\n",
    "number = preprocessing.LabelEncoder()\n",
    "\n",
    "play_tennis['outlook'] = number.fit_transform(play_tennis['outlook'])\n",
    "#ทำต่อ...\n",
    "\n",
    "#print(play_tennis)"
   ]
  },
  {
   "cell_type": "markdown",
   "metadata": {},
   "source": [
    "sklearn library, which can be found in sklearn.naive_bayes:\n",
    "\n",
    "sklearn.naive_bayes.CategoricalNB: \n",
    "    for using Naive Bayes on categorical predictor variables.\n",
    "            \n",
    "sklearn.naive_bayes.GaussianNB: \n",
    "    for Naive Bayes on numerical predictor variables, with the assumption \n",
    "    that these variables follow Gaussian distribution.\n",
    "    \n",
    "sklearn.naive_bayes.MultinomialNB: \n",
    "    the predictor variables represent the counts, a popular application \n",
    "    is in text classification. Fractional counts like tf-idf may also work.\n",
    "    \n",
    "sklearn.naive_bayes.ComplementNB: \n",
    "    A modification of MultinomialNB which is suitable for imbalanced datasets.\n",
    "    \n",
    "sklearn.naive_bayes.BernoulliNB: \n",
    "    assumes the data follows Bernoulli distribution (i.e. possible values of \n",
    "    predictor variables are 0 and 1)."
   ]
  },
  {
   "cell_type": "code",
   "execution_count": 14,
   "metadata": {},
   "outputs": [
    {
     "name": "stdout",
     "output_type": "stream",
     "text": [
      "Predicted Value: ['no']\n"
     ]
    },
    {
     "name": "stderr",
     "output_type": "stream",
     "text": [
      "C:\\Users\\Comscience\\anaconda3\\Lib\\site-packages\\sklearn\\base.py:493: UserWarning: X does not have valid feature names, but CategoricalNB was fitted with feature names\n",
      "  warnings.warn(\n"
     ]
    }
   ],
   "source": [
    "#Import Library of Naive Bayes\n",
    "from sklearn.naive_bayes import GaussianNB, BernoulliNB, MultinomialNB, CategoricalNB\n",
    "\n",
    "#Create a Gaussian Classifier\n",
    "Cat_NB_model = CategoricalNB()\n",
    "\n",
    "# Train the model using the training sets\n",
    "Cat_NB_model.fit(play_tennis[['outlook','temperature', 'humidity','windy']],play_tennis['play'])\n",
    "\n",
    "#Predict Output\n",
    "predicted= Cat_NB_model.predict([[1,1,0,1]]) # 1:rain, 1:hot, 0:high, 1:weak\n",
    "print(\"Predicted Value:\", predicted)"
   ]
  },
  {
   "cell_type": "code",
   "execution_count": 12,
   "metadata": {},
   "outputs": [],
   "source": [
    "#Import Library of K-Nearest Neighbor model\n"
   ]
  },
  {
   "cell_type": "code",
   "execution_count": 13,
   "metadata": {},
   "outputs": [
    {
     "name": "stdout",
     "output_type": "stream",
     "text": [
      "Predicted Value: ['yes']\n"
     ]
    },
    {
     "name": "stderr",
     "output_type": "stream",
     "text": [
      "C:\\Users\\Comscience\\anaconda3\\Lib\\site-packages\\sklearn\\base.py:493: UserWarning: X does not have valid feature names, but KNeighborsClassifier was fitted with feature names\n",
      "  warnings.warn(\n"
     ]
    }
   ],
   "source": [
    "#Create a KNN Classifier\n",
    "\n",
    "\n",
    "# Train the model using the training sets\n",
    "\n",
    "\n",
    "#Predict Output\n"
   ]
  },
  {
   "cell_type": "markdown",
   "metadata": {},
   "source": [
    "# แบบฝึกหัด"
   ]
  },
  {
   "cell_type": "markdown",
   "metadata": {},
   "source": [
    "1. จากตัวอย่างข้างต้น ให้นักศึกษาทดลองใช้ GaussianNB, BernoulliNB, MultinomialNB  \n",
    "เพื่อ predict ข้อมูลใหม่ที่เป็น rain, hot, high, weak ว่าเมื่อใช้แต่ละ model ได้คำตอบเป็นอะไร"
   ]
  },
  {
   "cell_type": "code",
   "execution_count": null,
   "metadata": {},
   "outputs": [],
   "source": []
  },
  {
   "cell_type": "markdown",
   "metadata": {},
   "source": [
    "2. มีข้อมูลใหม่ 2 ชุดคือ \n",
    "outlook -> Rainy, Sunny\n",
    "temperature -> Cool, Mild\n",
    "humidity -> high, normal\n",
    "windy -> Weak, Strong\n",
    "\n",
    "ให้ักศึกษาใช้ NB และ KNN (เมื่อ K=5) predict ข้อมูลใหม่ว่าอยู่ใน class อะไร"
   ]
  },
  {
   "cell_type": "code",
   "execution_count": null,
   "metadata": {},
   "outputs": [],
   "source": []
  },
  {
   "cell_type": "code",
   "execution_count": null,
   "metadata": {},
   "outputs": [],
   "source": []
  }
 ],
 "metadata": {
  "kernelspec": {
   "display_name": "Python 3 (ipykernel)",
   "language": "python",
   "name": "python3"
  },
  "language_info": {
   "codemirror_mode": {
    "name": "ipython",
    "version": 3
   },
   "file_extension": ".py",
   "mimetype": "text/x-python",
   "name": "python",
   "nbconvert_exporter": "python",
   "pygments_lexer": "ipython3",
   "version": "3.12.4"
  }
 },
 "nbformat": 4,
 "nbformat_minor": 4
}
