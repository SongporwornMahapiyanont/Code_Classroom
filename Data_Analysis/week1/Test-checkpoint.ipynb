{
 "cells": [
  {
   "cell_type": "markdown",
   "id": "da9a265e-4479-4a52-84db-3e769e70ed6e",
   "metadata": {},
   "source": [
    "## print(\"660710080 Songporworn Mahapiyanont\")"
   ]
  },
  {
   "cell_type": "markdown",
   "id": "d833f415-9214-4d71-a201-9d8919f4be26",
   "metadata": {},
   "source": [
    "# This is the best"
   ]
  },
  {
   "cell_type": "markdown",
   "id": "9e86988f-4053-48d3-a35e-7b9a3574b0ad",
   "metadata": {},
   "source": [
    "#### print Function Kub Nong"
   ]
  },
  {
   "cell_type": "code",
   "execution_count": 1,
   "id": "1f155b53-72ed-4f7f-956a-170060965777",
   "metadata": {},
   "outputs": [
    {
     "name": "stdout",
     "output_type": "stream",
     "text": [
      "hello there\n"
     ]
    }
   ],
   "source": [
    "#print si kub nong  print(\"hello there\")\n",
    "print(\"hello there\")"
   ]
  },
  {
   "cell_type": "code",
   "execution_count": 2,
   "id": "3f2c8e29-0755-42ae-979d-781582af146d",
   "metadata": {},
   "outputs": [
    {
     "name": "stdout",
     "output_type": "stream",
     "text": [
      "5\n",
      "2+3\n",
      "0\n"
     ]
    }
   ],
   "source": [
    "print(2+3)\n",
    "print(\"2+3\")\n",
    "print(00000)"
   ]
  },
  {
   "cell_type": "code",
   "execution_count": 8,
   "id": "c9aac01f-ac9f-4d70-b7f4-61ebb24565ba",
   "metadata": {},
   "outputs": [
    {
     "name": "stdout",
     "output_type": "stream",
     "text": [
      "hello 20 30\n",
      "\n",
      "ooo\n",
      "\n",
      "98\n"
     ]
    }
   ],
   "source": [
    "a=20\n",
    "print(\"hello\",a,10+20)\n",
    "print()\n",
    "print(\"ooo\")\n",
    "print()\n",
    "print(a+10+29+39)"
   ]
  },
  {
   "cell_type": "code",
   "execution_count": 21,
   "id": "70246582-9106-4da3-93e4-dcd6c3aadcfa",
   "metadata": {},
   "outputs": [
    {
     "name": "stdin",
     "output_type": "stream",
     "text": [
      "Enter your value 67\n",
      "Enter your height 173\n"
     ]
    },
    {
     "name": "stdout",
     "output_type": "stream",
     "text": [
      "BMI =  22.386314277122523\n"
     ]
    }
   ],
   "source": [
    "import math\n",
    "kg = float(input(\"Enter your value\"))\n",
    "height = float(input(\"Enter your height\"))\n",
    "height/=100\n",
    "BMI = kg/math.pow(height,2)\n",
    "print(\"BMI = \",BMI)"
   ]
  },
  {
   "cell_type": "code",
   "execution_count": 24,
   "id": "1fa6a3c3-fac6-40a1-a435-71d0a1e49d43",
   "metadata": {},
   "outputs": [
    {
     "name": "stdin",
     "output_type": "stream",
     "text": [
      "Enter your value a 14\n",
      "Enter your value a 15\n"
     ]
    },
    {
     "name": "stdout",
     "output_type": "stream",
     "text": [
      "C^2 =  421.0\n"
     ]
    }
   ],
   "source": [
    "import math\n",
    "a = int(input(\"Enter your value a\"))\n",
    "b = int(input(\"Enter your value a\"))\n",
    "c2 = math.pow(a,2) + math.pow(b,2)\n",
    "print(\"C^2 = \",c2)"
   ]
  },
  {
   "cell_type": "code",
   "execution_count": 26,
   "id": "496caf07-5d2c-4c42-971a-8bda3c0f7d4e",
   "metadata": {},
   "outputs": [],
   "source": [
    "import numpy as np\n",
    "import math as m\n",
    "import statistics as st"
   ]
  },
  {
   "cell_type": "code",
   "execution_count": 35,
   "id": "32ac33d2-ab50-4025-a0d6-986f1a9d0966",
   "metadata": {},
   "outputs": [
    {
     "name": "stdout",
     "output_type": "stream",
     "text": [
      "Mean =  3.7777777777777777\n",
      "Median =  4.0\n",
      "MAX =  6\n",
      "min =  1\n",
      "mode =  2\n"
     ]
    }
   ],
   "source": [
    "N = [1,2,3,4,5,5,6,2,6]\n",
    "print(\"Mean = \",np.mean(N))\n",
    "print(\"Median = \",np.median(N))\n",
    "print(\"MAX = \",np.max(N))\n",
    "print(\"min = \",np.min(N))\n",
    "print(\"mode = \",st.mode(N))\n"
   ]
  },
  {
   "cell_type": "markdown",
   "id": "c1697951-29d6-4a21-8132-6d3c68d826f2",
   "metadata": {},
   "source": [
    "# Dictionary"
   ]
  },
  {
   "cell_type": "code",
   "execution_count": null,
   "id": "59aeed31-ba2a-4979-87f4-218142ac3e8c",
   "metadata": {},
   "outputs": [],
   "source": [
    "My_Fruit = [1:\"apple\",2:\"banana\",3:\"orange\",4:\"cherry\"\n",
    "My_Data = [\"name\":\"Songporworn\",\"phone_number\":\"0822586568\",\"favourite\":\"Gym\"]\n",
    "print(\"My name is\",my_Data"
   ]
  }
 ],
 "metadata": {
  "kernelspec": {
   "display_name": "Python 3 (ipykernel)",
   "language": "python",
   "name": "python3"
  },
  "language_info": {
   "codemirror_mode": {
    "name": "ipython",
    "version": 3
   },
   "file_extension": ".py",
   "mimetype": "text/x-python",
   "name": "python",
   "nbconvert_exporter": "python",
   "pygments_lexer": "ipython3",
   "version": "3.12.3"
  }
 },
 "nbformat": 4,
 "nbformat_minor": 5
}
