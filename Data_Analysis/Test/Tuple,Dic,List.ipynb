{
 "cells": [
  {
   "cell_type": "markdown",
   "id": "f04c85a7",
   "metadata": {},
   "source": [
    "# 660710080_Songporworn_Mahapiyanont"
   ]
  },
  {
   "cell_type": "markdown",
   "id": "2c1b49f2",
   "metadata": {},
   "source": [
    "ในการทำแบบฝึกหัดให้เพิ่ม cell ด้านล่างของโจทย์เพื่อเขียน code"
   ]
  },
  {
   "cell_type": "markdown",
   "id": "9ff829b2",
   "metadata": {},
   "source": [
    "1.สร้าง list เพื่อเก็บชื่อวิชา\n",
    "\"Database\", \"Data Mining\", \"Machine Learning\", \"Database\", \"Calculus\", \"Linear Algebra\" \n",
    "และพิมพ์ออกมา"
   ]
  },
  {
   "cell_type": "code",
   "execution_count": 40,
   "id": "1b6fea5d",
   "metadata": {},
   "outputs": [
    {
     "name": "stdout",
     "output_type": "stream",
     "text": [
      "My subject :  ['Database', 'Data Mining', 'Machine Learning', 'Database', 'Calculus', 'Linear Algebra']\n"
     ]
    }
   ],
   "source": [
    "My_List = [\"Database\", \"Data Mining\", \"Machine Learning\", \"Database\", \"Calculus\", \"Linear Algebra\"]\n",
    "print(\"My subject : \" ,My_List)\n"
   ]
  },
  {
   "cell_type": "markdown",
   "id": "079c4d15",
   "metadata": {},
   "source": [
    "2.พิมพ์ขนาดของ List สร้าง"
   ]
  },
  {
   "cell_type": "code",
   "execution_count": 41,
   "id": "d750c700",
   "metadata": {},
   "outputs": [
    {
     "name": "stdout",
     "output_type": "stream",
     "text": [
      "My lengh : 6\n"
     ]
    }
   ],
   "source": [
    "My_List = [\"Database\", \"Data Mining\", \"Machine Learning\", \"Database\", \"Calculus\", \"Linear Algebra\"]\n",
    "print(\"My lengh :\",len(My_List))"
   ]
  },
  {
   "cell_type": "markdown",
   "id": "0c9e4bb9",
   "metadata": {},
   "source": [
    "3.เพิ่มข้อมูล \"Deep Leaerning\" ต่อจาก index(ตำแหน่ง) สุดท้ายเก็บไว้ใน List ที่สร้าง"
   ]
  },
  {
   "cell_type": "code",
   "execution_count": 42,
   "id": "56a74c0f",
   "metadata": {},
   "outputs": [
    {
     "name": "stdout",
     "output_type": "stream",
     "text": [
      "My_List :  ['Database', 'Data Mining', 'Machine Learning', 'Database', 'Calculus', 'Linear Algebra', 'Deep Leaerning']\n"
     ]
    }
   ],
   "source": [
    "My_List = [\"Database\", \"Data Mining\", \"Machine Learning\", \"Database\", \"Calculus\", \"Linear Algebra\"]\n",
    "D = [\"Deep Leaerning\"]\n",
    "My_List.extend(D)\n",
    "print(\"My_List : \",My_List)"
   ]
  },
  {
   "cell_type": "markdown",
   "id": "3c512f72",
   "metadata": {},
   "source": [
    "4.แสดงข้อมูล Machine Learning และ Database ใน list "
   ]
  },
  {
   "cell_type": "code",
   "execution_count": 43,
   "id": "60330ba7",
   "metadata": {},
   "outputs": [
    {
     "name": "stdout",
     "output_type": "stream",
     "text": [
      "Machine Learning\n",
      "Database\n"
     ]
    }
   ],
   "source": [
    "My_List = [\"Database\", \"Data Mining\", \"Machine Learning\", \"Database\", \"Calculus\", \"Linear Algebra\"]\n",
    "\n",
    "print(My_List[2])\n",
    "print(My_List[0])"
   ]
  },
  {
   "cell_type": "markdown",
   "id": "9e15e6ed",
   "metadata": {},
   "source": [
    "5. สร้าง tuple จากรายชื่อผลไม้\n",
    "\"Orange\", \"Apple\", \"Grape\", \"Melon\""
   ]
  },
  {
   "cell_type": "code",
   "execution_count": 44,
   "id": "d57510c4",
   "metadata": {},
   "outputs": [
    {
     "name": "stdout",
     "output_type": "stream",
     "text": [
      "My Fruit :  ('Orange', 'Apple', 'Grape', 'Melon')\n"
     ]
    }
   ],
   "source": [
    "My_fruit = (\"Orange\", \"Apple\", \"Grape\", \"Melon\")\n",
    "print(\"My Fruit : \",My_fruit)"
   ]
  },
  {
   "cell_type": "markdown",
   "id": "6d9fb978",
   "metadata": {},
   "source": [
    "6. เพิ่ม Cherry  เข้าไปใน tuple ที่สร้าง"
   ]
  },
  {
   "cell_type": "code",
   "execution_count": 45,
   "id": "5240ec88",
   "metadata": {},
   "outputs": [
    {
     "name": "stdout",
     "output_type": "stream",
     "text": [
      "(list) :  ['Orange', 'Apple', 'Grape', 'Melon', 'Cherry']\n",
      "(tuple) :  ('Orange', 'Apple', 'Grape', 'Melon', 'Cherry')\n"
     ]
    }
   ],
   "source": [
    "My_fruit = (\"Orange\", \"Apple\", \"Grape\", \"Melon\")\n",
    "My_fruit = list(My_fruit)\n",
    "My_fruit.append(\"Cherry\")\n",
    "print(\"(list) : \" ,My_fruit)\n",
    "print(\"(tuple) : \" ,tuple(My_fruit))"
   ]
  },
  {
   "cell_type": "markdown",
   "id": "5a2b5fd8",
   "metadata": {},
   "source": [
    "7. สร้าง Dictionaries จากข้อมูลด้านล่างด้วยรูปแบบ key,value กำหนดให้\n",
    "name : Loid,\n",
    "family name : Forger,\n",
    "year : 1964"
   ]
  },
  {
   "cell_type": "code",
   "execution_count": 46,
   "id": "c75c4a14",
   "metadata": {},
   "outputs": [
    {
     "name": "stdout",
     "output_type": "stream",
     "text": [
      "<class 'dict'>\n"
     ]
    }
   ],
   "source": [
    "My_Dic = {\"name\" : \"Loid\",\"family name \": \"Forger\",\"year\" : \"1964\"}\n",
    "print(type(My_Dic))\n"
   ]
  },
  {
   "cell_type": "markdown",
   "id": "bff3f6a3",
   "metadata": {},
   "source": [
    "8.พิมพ์ค่า key และ value ทั้งหมดใน Dictionaries ที่สร้าง"
   ]
  },
  {
   "cell_type": "code",
   "execution_count": 47,
   "id": "013e8afd",
   "metadata": {},
   "outputs": [
    {
     "name": "stdout",
     "output_type": "stream",
     "text": [
      "('name', 'Loid') ('family name ', 'Forger') ('year', '1964') "
     ]
    }
   ],
   "source": [
    "My_Dic = {\"name\" : \"Loid\",\"family name \": \"Forger\",\"year\" : \"1964\"}\n",
    "for i in My_Dic.items():\n",
    "    print(i,end=\" \")"
   ]
  },
  {
   "cell_type": "markdown",
   "id": "6bb0e521",
   "metadata": {},
   "source": [
    "9.เปลี่ยนชื่อ (name) และปี (year) ใน Dictionaries เป็น Anya และ 2016"
   ]
  },
  {
   "cell_type": "code",
   "execution_count": 48,
   "id": "3f391c3d",
   "metadata": {},
   "outputs": [
    {
     "name": "stdout",
     "output_type": "stream",
     "text": [
      "{'name': 'Anya', 'family name ': 'Forger', 'year': '2016'}\n"
     ]
    }
   ],
   "source": [
    "My_Dic = {\"name\" : \"Loid\",\"family name \": \"Forger\",\"year\" : \"1964\"}\n",
    "My_Dic[\"name\"] = \"Anya\"\n",
    "My_Dic[\"year\"] = \"2016\"\n",
    "print(My_Dic)"
   ]
  }
 ],
 "metadata": {
  "kernelspec": {
   "display_name": "Python 3 (ipykernel)",
   "language": "python",
   "name": "python3"
  },
  "language_info": {
   "codemirror_mode": {
    "name": "ipython",
    "version": 3
   },
   "file_extension": ".py",
   "mimetype": "text/x-python",
   "name": "python",
   "nbconvert_exporter": "python",
   "pygments_lexer": "ipython3",
   "version": "3.12.4"
  }
 },
 "nbformat": 4,
 "nbformat_minor": 5
}
