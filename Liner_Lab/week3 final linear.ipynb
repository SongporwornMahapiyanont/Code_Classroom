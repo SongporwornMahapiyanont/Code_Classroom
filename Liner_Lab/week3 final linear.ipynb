{
 "cells": [
  {
   "cell_type": "code",
   "execution_count": 12,
   "id": "e7eb4c79-f1d5-4605-b569-bb15239c6f16",
   "metadata": {},
   "outputs": [],
   "source": [
    "from sympy import *\n",
    "init_printing(use_unicode = True)"
   ]
  },
  {
   "cell_type": "code",
   "execution_count": 15,
   "id": "2db3f979-e960-4b27-bf25-be5d105e87e5",
   "metadata": {},
   "outputs": [],
   "source": [
    "A = Matrix([[1,2,3,4],[5,6,7,8],[9,10,11,12],[13,14,15,16]])\n",
    "eival = A.eigenvals()\n",
    "eivec = A.eigenvects()\n"
   ]
  },
  {
   "cell_type": "code",
   "execution_count": 17,
   "id": "1799d9ee-78db-4044-b893-2b19b135ad43",
   "metadata": {},
   "outputs": [
    {
     "data": {
      "image/png": "[encoded data removed]",
      "text/latex": [
       "$\\displaystyle \\left\\{ 0 : 2, \\  17 - 3 \\sqrt{41} : 1, \\  17 + 3 \\sqrt{41} : 1\\right\\}$"
      ],
      "text/plain": [
       "{0: 2, 17 - 3⋅√41: 1, 17 + 3⋅√41: 1}"
      ]
     },
     "execution_count": 17,
     "metadata": {},
     "output_type": "execute_result"
    }
   ],
   "source": [
    "eival"
   ]
  },
  {
   "cell_type": "code",
   "execution_count": 18,
   "id": "e9875a00-cf2f-40c9-a37e-d75e96b9e3f4",
   "metadata": {},
   "outputs": [
    {
     "data": {
      "text/latex": [
       "$\\displaystyle \\left[ \\left( 0, \\  2, \\  \\left[ \\left[\\begin{matrix}1\\\\-2\\\\1\\\\0\\end{matrix}\\right], \\  \\left[\\begin{matrix}2\\\\-3\\\\0\\\\1\\end{matrix}\\right]\\right]\\right), \\  \\left( 17 - 3 \\sqrt{41}, \\  1, \\  \\left[ \\left[\\begin{matrix}- \\frac{9 \\sqrt{41}}{82} - \\frac{1}{2}\\\\- \\frac{3 \\sqrt{41}}{41}\\\\\\frac{1}{2} - \\frac{3 \\sqrt{41}}{82}\\\\1\\end{matrix}\\right]\\right]\\right), \\  \\left( 17 + 3 \\sqrt{41}, \\  1, \\  \\left[ \\left[\\begin{matrix}- \\frac{1}{2} + \\frac{9 \\sqrt{41}}{82}\\\\\\frac{3 \\sqrt{41}}{41}\\\\\\frac{3 \\sqrt{41}}{82} + \\frac{1}{2}\\\\1\\end{matrix}\\right]\\right]\\right)\\right]$"
      ],
      "text/plain": [
       "⎡                      ⎛               ⎡⎡  9⋅√41   1⎤⎤⎞  ⎛               ⎡⎡  1\n",
       "⎢                      ⎜               ⎢⎢- ───── - ─⎥⎥⎟  ⎜               ⎢⎢- ─\n",
       "⎢                      ⎜               ⎢⎢    82    2⎥⎥⎟  ⎜               ⎢⎢  2\n",
       "⎢⎛      ⎡⎡1 ⎤  ⎡2 ⎤⎤⎞  ⎜               ⎢⎢           ⎥⎥⎟  ⎜               ⎢⎢   \n",
       "⎢⎜      ⎢⎢  ⎥  ⎢  ⎥⎥⎟  ⎜               ⎢⎢  -3⋅√41   ⎥⎥⎟  ⎜               ⎢⎢   \n",
       "⎢⎜      ⎢⎢-2⎥  ⎢-3⎥⎥⎟  ⎜               ⎢⎢  ───────  ⎥⎥⎟  ⎜               ⎢⎢   \n",
       "⎢⎜0, 2, ⎢⎢  ⎥, ⎢  ⎥⎥⎟, ⎜17 - 3⋅√41, 1, ⎢⎢     41    ⎥⎥⎟, ⎜17 + 3⋅√41, 1, ⎢⎢   \n",
       "⎢⎜      ⎢⎢1 ⎥  ⎢0 ⎥⎥⎟  ⎜               ⎢⎢           ⎥⎥⎟  ⎜               ⎢⎢   \n",
       "⎢⎜      ⎢⎢  ⎥  ⎢  ⎥⎥⎟  ⎜               ⎢⎢ 1   3⋅√41 ⎥⎥⎟  ⎜               ⎢⎢ 3⋅\n",
       "⎢⎝      ⎣⎣0 ⎦  ⎣1 ⎦⎦⎠  ⎜               ⎢⎢ ─ - ───── ⎥⎥⎟  ⎜               ⎢⎢ ──\n",
       "⎢                      ⎜               ⎢⎢ 2     82  ⎥⎥⎟  ⎜               ⎢⎢   \n",
       "⎢                      ⎜               ⎢⎢           ⎥⎥⎟  ⎜               ⎢⎢   \n",
       "⎣                      ⎝               ⎣⎣     1     ⎦⎦⎠  ⎝               ⎣⎣   \n",
       "\n",
       "   9⋅√41⎤⎤⎞⎤\n",
       " + ─────⎥⎥⎟⎥\n",
       "     82 ⎥⎥⎟⎥\n",
       "        ⎥⎥⎟⎥\n",
       "3⋅√41   ⎥⎥⎟⎥\n",
       "─────   ⎥⎥⎟⎥\n",
       "  41    ⎥⎥⎟⎥\n",
       "        ⎥⎥⎟⎥\n",
       "√41   1 ⎥⎥⎟⎥\n",
       "─── + ─ ⎥⎥⎟⎥\n",
       "82    2 ⎥⎥⎟⎥\n",
       "        ⎥⎥⎟⎥\n",
       "  1     ⎦⎦⎠⎦"
      ]
     },
     "execution_count": 18,
     "metadata": {},
     "output_type": "execute_result"
    }
   ],
   "source": [
    "eivec"
   ]
  },
  {
   "cell_type": "code",
   "execution_count": 37,
   "id": "af1fb540-30bb-4159-a3f9-790b009c7336",
   "metadata": {},
   "outputs": [
    {
     "data": {
      "text/latex": [
       "$\\displaystyle \\left[\\begin{matrix}3 & 0 & 0 & 0\\\\0 & 5 & 0 & 0\\\\0 & 0 & 7 & 0\\\\0 & 0 & 0 & 2\\end{matrix}\\right]$"
      ],
      "text/plain": [
       "⎡3  0  0  0⎤\n",
       "⎢          ⎥\n",
       "⎢0  5  0  0⎥\n",
       "⎢          ⎥\n",
       "⎢0  0  7  0⎥\n",
       "⎢          ⎥\n",
       "⎣0  0  0  2⎦"
      ]
     },
     "execution_count": 37,
     "metadata": {},
     "output_type": "execute_result"
    }
   ],
   "source": [
    "A = diag(3,5,7,2)\n",
    "A"
   ]
  },
  {
   "cell_type": "code",
   "execution_count": 39,
   "id": "02f32d79-d602-4364-a2cf-123333329ffa",
   "metadata": {},
   "outputs": [
    {
     "data": {
      "image/png": "[encoded data removed]",
      "text/latex": [
       "$\\displaystyle \\left\\{ 2 : 1, \\  3 : 1, \\  5 : 1, \\  7 : 1\\right\\}$"
      ],
      "text/plain": [
       "{2: 1, 3: 1, 5: 1, 7: 1}"
      ]
     },
     "execution_count": 39,
     "metadata": {},
     "output_type": "execute_result"
    }
   ],
   "source": [
    "A.eigenvals() # คำนวณค่าลักษณะเฉพาะ"
   ]
  },
  {
   "cell_type": "code",
   "execution_count": 41,
   "id": "a0737738-6eba-419e-ab8f-5bef2971b676",
   "metadata": {},
   "outputs": [
    {
     "data": {
      "image/png": "[encoded data removed]",
      "text/latex": [
       "$\\displaystyle \\left\\{ 2 : 1, \\  3 : 1, \\  5 : 1, \\  7 : 1\\right\\}$"
      ],
      "text/plain": [
       "{2: 1, 3: 1, 5: 1, 7: 1}"
      ]
     },
     "execution_count": 41,
     "metadata": {},
     "output_type": "execute_result"
    }
   ],
   "source": [
    "A = Matrix([\n",
    "    [3, 1, 2, 4],  \n",
    "    [0, 5, 6, 7],  \n",
    "    [0, 0, 7, 8],  \n",
    "    [0, 0, 0, 2]   \n",
    "])\n",
    "A.eigenvals() # คำนวณค่าลักษณะเฉพาะ"
   ]
  },
  {
   "cell_type": "markdown",
   "id": "4b7e2d60-86c7-48c3-b1f2-1dcf6af1a9aa",
   "metadata": {},
   "source": [
    "# Exercise 3.4"
   ]
  },
  {
   "cell_type": "code",
   "execution_count": 78,
   "id": "6da9b27c-eb43-463b-b09c-61a0704e4208",
   "metadata": {},
   "outputs": [
    {
     "data": {
      "image/png": "[encoded data removed]",
      "text/latex": [
       "$\\displaystyle \\left\\{ 0 : 2, \\  17 - 3 \\sqrt{41} : 1, \\  17 + 3 \\sqrt{41} : 1\\right\\}$"
      ],
      "text/plain": [
       "{0: 2, 17 - 3⋅√41: 1, 17 + 3⋅√41: 1}"
      ]
     },
     "execution_count": 78,
     "metadata": {},
     "output_type": "execute_result"
    }
   ],
   "source": [
    "O = Matrix([[1,2,3,4],[5,6,7,8],[9,10,11,12],[13,14,15,16]])\n",
    "eival  = O.eigenvals()\n",
    "eivec = O.eigenvects()\n",
    "eival"
   ]
  },
  {
   "cell_type": "code",
   "execution_count": 80,
   "id": "c4f1225a-4f12-42cd-b7ad-2669d469f864",
   "metadata": {},
   "outputs": [
    {
     "data": {
      "text/latex": [
       "$\\displaystyle \\left[ \\left( 0, \\  2, \\  \\left[ \\left[\\begin{matrix}1\\\\-2\\\\1\\\\0\\end{matrix}\\right], \\  \\left[\\begin{matrix}2\\\\-3\\\\0\\\\1\\end{matrix}\\right]\\right]\\right), \\  \\left( 17 - 3 \\sqrt{41}, \\  1, \\  \\left[ \\left[\\begin{matrix}- \\frac{9 \\sqrt{41}}{82} - \\frac{1}{2}\\\\- \\frac{3 \\sqrt{41}}{41}\\\\\\frac{1}{2} - \\frac{3 \\sqrt{41}}{82}\\\\1\\end{matrix}\\right]\\right]\\right), \\  \\left( 17 + 3 \\sqrt{41}, \\  1, \\  \\left[ \\left[\\begin{matrix}- \\frac{1}{2} + \\frac{9 \\sqrt{41}}{82}\\\\\\frac{3 \\sqrt{41}}{41}\\\\\\frac{3 \\sqrt{41}}{82} + \\frac{1}{2}\\\\1\\end{matrix}\\right]\\right]\\right)\\right]$"
      ],
      "text/plain": [
       "⎡                      ⎛               ⎡⎡  9⋅√41   1⎤⎤⎞  ⎛               ⎡⎡  1\n",
       "⎢                      ⎜               ⎢⎢- ───── - ─⎥⎥⎟  ⎜               ⎢⎢- ─\n",
       "⎢                      ⎜               ⎢⎢    82    2⎥⎥⎟  ⎜               ⎢⎢  2\n",
       "⎢⎛      ⎡⎡1 ⎤  ⎡2 ⎤⎤⎞  ⎜               ⎢⎢           ⎥⎥⎟  ⎜               ⎢⎢   \n",
       "⎢⎜      ⎢⎢  ⎥  ⎢  ⎥⎥⎟  ⎜               ⎢⎢  -3⋅√41   ⎥⎥⎟  ⎜               ⎢⎢   \n",
       "⎢⎜      ⎢⎢-2⎥  ⎢-3⎥⎥⎟  ⎜               ⎢⎢  ───────  ⎥⎥⎟  ⎜               ⎢⎢   \n",
       "⎢⎜0, 2, ⎢⎢  ⎥, ⎢  ⎥⎥⎟, ⎜17 - 3⋅√41, 1, ⎢⎢     41    ⎥⎥⎟, ⎜17 + 3⋅√41, 1, ⎢⎢   \n",
       "⎢⎜      ⎢⎢1 ⎥  ⎢0 ⎥⎥⎟  ⎜               ⎢⎢           ⎥⎥⎟  ⎜               ⎢⎢   \n",
       "⎢⎜      ⎢⎢  ⎥  ⎢  ⎥⎥⎟  ⎜               ⎢⎢ 1   3⋅√41 ⎥⎥⎟  ⎜               ⎢⎢ 3⋅\n",
       "⎢⎝      ⎣⎣0 ⎦  ⎣1 ⎦⎦⎠  ⎜               ⎢⎢ ─ - ───── ⎥⎥⎟  ⎜               ⎢⎢ ──\n",
       "⎢                      ⎜               ⎢⎢ 2     82  ⎥⎥⎟  ⎜               ⎢⎢   \n",
       "⎢                      ⎜               ⎢⎢           ⎥⎥⎟  ⎜               ⎢⎢   \n",
       "⎣                      ⎝               ⎣⎣     1     ⎦⎦⎠  ⎝               ⎣⎣   \n",
       "\n",
       "   9⋅√41⎤⎤⎞⎤\n",
       " + ─────⎥⎥⎟⎥\n",
       "     82 ⎥⎥⎟⎥\n",
       "        ⎥⎥⎟⎥\n",
       "3⋅√41   ⎥⎥⎟⎥\n",
       "─────   ⎥⎥⎟⎥\n",
       "  41    ⎥⎥⎟⎥\n",
       "        ⎥⎥⎟⎥\n",
       "√41   1 ⎥⎥⎟⎥\n",
       "─── + ─ ⎥⎥⎟⎥\n",
       "82    2 ⎥⎥⎟⎥\n",
       "        ⎥⎥⎟⎥\n",
       "  1     ⎦⎦⎠⎦"
      ]
     },
     "execution_count": 80,
     "metadata": {},
     "output_type": "execute_result"
    }
   ],
   "source": [
    "eivec"
   ]
  },
  {
   "cell_type": "code",
   "execution_count": 84,
   "id": "da9e5cb0-58cd-4e40-9860-1e597b52c543",
   "metadata": {},
   "outputs": [
    {
     "data": {
      "text/latex": [
       "$\\displaystyle \\left[\\begin{matrix}0 & 0 & 0 & 0\\\\0 & 0 & 0 & 0\\\\0 & 0 & 17 - 3 \\sqrt{41} & 0\\\\0 & 0 & 0 & 17 + 3 \\sqrt{41}\\end{matrix}\\right]$"
      ],
      "text/plain": [
       "⎡0  0      0           0     ⎤\n",
       "⎢                            ⎥\n",
       "⎢0  0      0           0     ⎥\n",
       "⎢                            ⎥\n",
       "⎢0  0  17 - 3⋅√41      0     ⎥\n",
       "⎢                            ⎥\n",
       "⎣0  0      0       17 + 3⋅√41⎦"
      ]
     },
     "execution_count": 84,
     "metadata": {},
     "output_type": "execute_result"
    }
   ],
   "source": [
    "L = diag(eivec[0][0] ,eivec[0][0],eivec[1][0],eivec[2][0])\n",
    "L"
   ]
  },
  {
   "cell_type": "code",
   "execution_count": 90,
   "id": "1439fe1e-ffc5-4553-ac60-37310923f5fd",
   "metadata": {},
   "outputs": [
    {
     "data": {
      "text/latex": [
       "$\\displaystyle \\left[\\begin{matrix}1 & 2 & - \\frac{9 \\sqrt{41}}{82} - \\frac{1}{2} & - \\frac{1}{2} + \\frac{9 \\sqrt{41}}{82}\\\\-2 & -3 & - \\frac{3 \\sqrt{41}}{41} & \\frac{3 \\sqrt{41}}{41}\\\\1 & 0 & \\frac{1}{2} - \\frac{3 \\sqrt{41}}{82} & \\frac{3 \\sqrt{41}}{82} + \\frac{1}{2}\\\\0 & 1 & 1 & 1\\end{matrix}\\right]$"
      ],
      "text/plain": [
       "⎡          9⋅√41   1    1   9⋅√41⎤\n",
       "⎢1   2   - ───── - ─  - ─ + ─────⎥\n",
       "⎢            82    2    2     82 ⎥\n",
       "⎢                                ⎥\n",
       "⎢          -3⋅√41        3⋅√41   ⎥\n",
       "⎢-2  -3    ───────       ─────   ⎥\n",
       "⎢             41           41    ⎥\n",
       "⎢                                ⎥\n",
       "⎢         1   3⋅√41    3⋅√41   1 ⎥\n",
       "⎢1   0    ─ - ─────    ───── + ─ ⎥\n",
       "⎢         2     82       82    2 ⎥\n",
       "⎢                                ⎥\n",
       "⎣0   1        1            1     ⎦"
      ]
     },
     "execution_count": 90,
     "metadata": {},
     "output_type": "execute_result"
    }
   ],
   "source": [
    "Q = Matrix.hstack(eivec[0][2][0],eivec[0][2][1],eivec[1][2][0],eivec[2][2][0])\n",
    "Q #เอามาเมทริกซ์มาเรียงใหม่"
   ]
  },
  {
   "cell_type": "code",
   "execution_count": 102,
   "id": "2d78c7de-e868-4aeb-9468-0b638e64b19a",
   "metadata": {},
   "outputs": [
    {
     "data": {
      "text/latex": [
       "$\\displaystyle \\left[\\begin{matrix}1 & 2 & 3 & 4\\\\5 & 6 & 7 & 8\\\\9 & 10 & 11 & 12\\\\13 & 14 & 15 & 16\\end{matrix}\\right]$"
      ],
      "text/plain": [
       "⎡1   2   3   4 ⎤\n",
       "⎢              ⎥\n",
       "⎢5   6   7   8 ⎥\n",
       "⎢              ⎥\n",
       "⎢9   10  11  12⎥\n",
       "⎢              ⎥\n",
       "⎣13  14  15  16⎦"
      ]
     },
     "execution_count": 102,
     "metadata": {},
     "output_type": "execute_result"
    }
   ],
   "source": [
    "# Q*L*(Q.inv()) # รกตาต้องจัดใหม่\n",
    "simplify(Q*L*(Q.inv()))"
   ]
  },
  {
   "cell_type": "markdown",
   "id": "e7f4c182-9d32-4abc-b833-f1dfe0ee9d71",
   "metadata": {},
   "source": [
    "# Exercise 1"
   ]
  },
  {
   "cell_type": "code",
   "execution_count": 120,
   "id": "8308b097-128d-4bfd-bfbc-8c2ac6d61d80",
   "metadata": {},
   "outputs": [
    {
     "data": {
      "image/png": "[encoded data removed]",
      "text/latex": [
       "$\\displaystyle \\left\\{ -1 : 2, \\  1 : 1, \\  2 : 1, \\  3 : 1\\right\\}$"
      ],
      "text/plain": [
       "{-1: 2, 1: 1, 2: 1, 3: 1}"
      ]
     },
     "execution_count": 120,
     "metadata": {},
     "output_type": "execute_result"
    }
   ],
   "source": [
    "A = Matrix([[1,0,0,0,2],[1,1,0,0,0],[0,0,3,0,0],[2,0,-2,1,1],[0,2,0,0,-2]])\n",
    "A.eigenvals()"
   ]
  },
  {
   "cell_type": "code",
   "execution_count": 156,
   "id": "635c5481-fe38-48b3-a0e5-e8e53336a962",
   "metadata": {},
   "outputs": [
    {
     "data": {
      "text/latex": [
       "$\\displaystyle \\left[ \\left( -1, \\  2, \\  \\left[ \\left[\\begin{matrix}-1\\\\\\frac{1}{2}\\\\0\\\\\\frac{1}{2}\\\\1\\end{matrix}\\right]\\right]\\right), \\  \\left( 1, \\  1, \\  \\left[ \\left[\\begin{matrix}0\\\\0\\\\0\\\\1\\\\0\\end{matrix}\\right]\\right]\\right), \\  \\left( 2, \\  1, \\  \\left[ \\left[\\begin{matrix}2\\\\2\\\\0\\\\5\\\\1\\end{matrix}\\right]\\right]\\right), \\  \\left( 3, \\  1, \\  \\left[ \\left[\\begin{matrix}0\\\\0\\\\-1\\\\1\\\\0\\end{matrix}\\right]\\right]\\right)\\right]$"
      ],
      "text/plain": [
       "⎡⎛       ⎡⎡-1 ⎤⎤⎞  ⎛      ⎡⎡0⎤⎤⎞  ⎛      ⎡⎡2⎤⎤⎞  ⎛      ⎡⎡0 ⎤⎤⎞⎤\n",
       "⎢⎜       ⎢⎢   ⎥⎥⎟  ⎜      ⎢⎢ ⎥⎥⎟  ⎜      ⎢⎢ ⎥⎥⎟  ⎜      ⎢⎢  ⎥⎥⎟⎥\n",
       "⎢⎜       ⎢⎢1/2⎥⎥⎟  ⎜      ⎢⎢0⎥⎥⎟  ⎜      ⎢⎢2⎥⎥⎟  ⎜      ⎢⎢0 ⎥⎥⎟⎥\n",
       "⎢⎜       ⎢⎢   ⎥⎥⎟  ⎜      ⎢⎢ ⎥⎥⎟  ⎜      ⎢⎢ ⎥⎥⎟  ⎜      ⎢⎢  ⎥⎥⎟⎥\n",
       "⎢⎜-1, 2, ⎢⎢ 0 ⎥⎥⎟, ⎜1, 1, ⎢⎢0⎥⎥⎟, ⎜2, 1, ⎢⎢0⎥⎥⎟, ⎜3, 1, ⎢⎢-1⎥⎥⎟⎥\n",
       "⎢⎜       ⎢⎢   ⎥⎥⎟  ⎜      ⎢⎢ ⎥⎥⎟  ⎜      ⎢⎢ ⎥⎥⎟  ⎜      ⎢⎢  ⎥⎥⎟⎥\n",
       "⎢⎜       ⎢⎢1/2⎥⎥⎟  ⎜      ⎢⎢1⎥⎥⎟  ⎜      ⎢⎢5⎥⎥⎟  ⎜      ⎢⎢1 ⎥⎥⎟⎥\n",
       "⎢⎜       ⎢⎢   ⎥⎥⎟  ⎜      ⎢⎢ ⎥⎥⎟  ⎜      ⎢⎢ ⎥⎥⎟  ⎜      ⎢⎢  ⎥⎥⎟⎥\n",
       "⎣⎝       ⎣⎣ 1 ⎦⎦⎠  ⎝      ⎣⎣0⎦⎦⎠  ⎝      ⎣⎣1⎦⎦⎠  ⎝      ⎣⎣0 ⎦⎦⎠⎦"
      ]
     },
     "execution_count": 156,
     "metadata": {},
     "output_type": "execute_result"
    }
   ],
   "source": [
    "eivec = A.eigenvects()\n",
    "eivec"
   ]
  },
  {
   "cell_type": "code",
   "execution_count": 181,
   "id": "48cffba0-8f54-428d-900f-cf818a8c17b1",
   "metadata": {},
   "outputs": [
    {
     "name": "stdout",
     "output_type": "stream",
     "text": [
      "⎡ 1  ⎤\n",
      "⎢    ⎥\n",
      "⎢-1/2⎥\n",
      "⎢    ⎥\n",
      "⎢ 0  ⎥\n",
      "⎢    ⎥\n",
      "⎢-1/2⎥\n",
      "⎢    ⎥\n",
      "⎣ -1 ⎦\n",
      "⎡0⎤\n",
      "⎢ ⎥\n",
      "⎢0⎥\n",
      "⎢ ⎥\n",
      "⎢0⎥\n",
      "⎢ ⎥\n",
      "⎢1⎥\n",
      "⎢ ⎥\n",
      "⎣0⎦\n",
      "⎡4 ⎤\n",
      "⎢  ⎥\n",
      "⎢4 ⎥\n",
      "⎢  ⎥\n",
      "⎢0 ⎥\n",
      "⎢  ⎥\n",
      "⎢10⎥\n",
      "⎢  ⎥\n",
      "⎣2 ⎦\n",
      "⎡0 ⎤\n",
      "⎢  ⎥\n",
      "⎢0 ⎥\n",
      "⎢  ⎥\n",
      "⎢-3⎥\n",
      "⎢  ⎥\n",
      "⎢3 ⎥\n",
      "⎢  ⎥\n",
      "⎣0 ⎦\n"
     ]
    }
   ],
   "source": [
    "for i in range(len(eivec)):\n",
    "    pprint(A*eivec[i][2][0])"
   ]
  },
  {
   "cell_type": "code",
   "execution_count": 183,
   "id": "27bc7afe-2f6a-4f83-a37a-e04203bf522e",
   "metadata": {},
   "outputs": [
    {
     "name": "stdout",
     "output_type": "stream",
     "text": [
      "⎡ 1  ⎤\n",
      "⎢    ⎥\n",
      "⎢-1/2⎥\n",
      "⎢    ⎥\n",
      "⎢ 0  ⎥\n",
      "⎢    ⎥\n",
      "⎢-1/2⎥\n",
      "⎢    ⎥\n",
      "⎣ -1 ⎦\n",
      "⎡0⎤\n",
      "⎢ ⎥\n",
      "⎢0⎥\n",
      "⎢ ⎥\n",
      "⎢0⎥\n",
      "⎢ ⎥\n",
      "⎢1⎥\n",
      "⎢ ⎥\n",
      "⎣0⎦\n",
      "⎡4 ⎤\n",
      "⎢  ⎥\n",
      "⎢4 ⎥\n",
      "⎢  ⎥\n",
      "⎢0 ⎥\n",
      "⎢  ⎥\n",
      "⎢10⎥\n",
      "⎢  ⎥\n",
      "⎣2 ⎦\n",
      "⎡0 ⎤\n",
      "⎢  ⎥\n",
      "⎢0 ⎥\n",
      "⎢  ⎥\n",
      "⎢-3⎥\n",
      "⎢  ⎥\n",
      "⎢3 ⎥\n",
      "⎢  ⎥\n",
      "⎣0 ⎦\n"
     ]
    }
   ],
   "source": [
    "for i in range(len(eivec)):\n",
    "    pprint(eivec[i][0]*eivec[i][2][0])"
   ]
  },
  {
   "cell_type": "code",
   "execution_count": 185,
   "id": "75795b97-26af-4144-ab5e-11f9e878c6e5",
   "metadata": {},
   "outputs": [
    {
     "data": {
      "image/png": "[encoded data removed]",
      "text/latex": [
       "$\\displaystyle \\left\\{ -1 : 2, \\  1 : 1, \\  2 : 1, \\  3 : 1\\right\\}$"
      ],
      "text/plain": [
       "{-1: 2, 1: 1, 2: 1, 3: 1}"
      ]
     },
     "execution_count": 185,
     "metadata": {},
     "output_type": "execute_result"
    }
   ],
   "source": [
    "A.eigenvals()"
   ]
  },
  {
   "cell_type": "code",
   "execution_count": 189,
   "id": "6d3c8bee-56d7-489b-bbe2-a105ec4a1b4b",
   "metadata": {},
   "outputs": [
    {
     "data": {
      "text/latex": [
       "$\\displaystyle \\left[ \\left( -1, \\  2, \\  \\left[ \\left[\\begin{matrix}-1\\\\\\frac{1}{2}\\\\0\\\\\\frac{1}{2}\\\\1\\end{matrix}\\right]\\right]\\right), \\  \\left( 1, \\  1, \\  \\left[ \\left[\\begin{matrix}0\\\\0\\\\0\\\\1\\\\0\\end{matrix}\\right]\\right]\\right), \\  \\left( 2, \\  1, \\  \\left[ \\left[\\begin{matrix}2\\\\2\\\\0\\\\5\\\\1\\end{matrix}\\right]\\right]\\right), \\  \\left( 3, \\  1, \\  \\left[ \\left[\\begin{matrix}0\\\\0\\\\-1\\\\1\\\\0\\end{matrix}\\right]\\right]\\right)\\right]$"
      ],
      "text/plain": [
       "⎡⎛       ⎡⎡-1 ⎤⎤⎞  ⎛      ⎡⎡0⎤⎤⎞  ⎛      ⎡⎡2⎤⎤⎞  ⎛      ⎡⎡0 ⎤⎤⎞⎤\n",
       "⎢⎜       ⎢⎢   ⎥⎥⎟  ⎜      ⎢⎢ ⎥⎥⎟  ⎜      ⎢⎢ ⎥⎥⎟  ⎜      ⎢⎢  ⎥⎥⎟⎥\n",
       "⎢⎜       ⎢⎢1/2⎥⎥⎟  ⎜      ⎢⎢0⎥⎥⎟  ⎜      ⎢⎢2⎥⎥⎟  ⎜      ⎢⎢0 ⎥⎥⎟⎥\n",
       "⎢⎜       ⎢⎢   ⎥⎥⎟  ⎜      ⎢⎢ ⎥⎥⎟  ⎜      ⎢⎢ ⎥⎥⎟  ⎜      ⎢⎢  ⎥⎥⎟⎥\n",
       "⎢⎜-1, 2, ⎢⎢ 0 ⎥⎥⎟, ⎜1, 1, ⎢⎢0⎥⎥⎟, ⎜2, 1, ⎢⎢0⎥⎥⎟, ⎜3, 1, ⎢⎢-1⎥⎥⎟⎥\n",
       "⎢⎜       ⎢⎢   ⎥⎥⎟  ⎜      ⎢⎢ ⎥⎥⎟  ⎜      ⎢⎢ ⎥⎥⎟  ⎜      ⎢⎢  ⎥⎥⎟⎥\n",
       "⎢⎜       ⎢⎢1/2⎥⎥⎟  ⎜      ⎢⎢1⎥⎥⎟  ⎜      ⎢⎢5⎥⎥⎟  ⎜      ⎢⎢1 ⎥⎥⎟⎥\n",
       "⎢⎜       ⎢⎢   ⎥⎥⎟  ⎜      ⎢⎢ ⎥⎥⎟  ⎜      ⎢⎢ ⎥⎥⎟  ⎜      ⎢⎢  ⎥⎥⎟⎥\n",
       "⎣⎝       ⎣⎣ 1 ⎦⎦⎠  ⎝      ⎣⎣0⎦⎦⎠  ⎝      ⎣⎣1⎦⎦⎠  ⎝      ⎣⎣0 ⎦⎦⎠⎦"
      ]
     },
     "execution_count": 189,
     "metadata": {},
     "output_type": "execute_result"
    }
   ],
   "source": [
    "eivec = A.eigenvects()"
   ]
  },
  {
   "cell_type": "code",
   "execution_count": 247,
   "id": "30fc76c4-5953-4bf7-b189-3fe94e08a934",
   "metadata": {},
   "outputs": [
    {
     "name": "stdout",
     "output_type": "stream",
     "text": [
      "[1, 1, 1, 1]\n",
      "[-1, 1, 2, 3]\n",
      "[1, 1, 4, 9]\n",
      "[-1, 1, 8, 27]\n",
      "[1, 1, 16, 81]\n",
      "[-1, 1, 32, 243]\n",
      "[1, 1, 64, 729]\n",
      "[-1, 1, 128, 2187]\n",
      "[1, 1, 256, 6561]\n",
      "[-1, 1, 512, 19683]\n",
      "[1, 1, 1024, 59049]\n",
      "[-1, 1, 2048, 177147]\n",
      "[1, 1, 4096, 531441]\n",
      "[-1, 1, 8192, 1594323]\n",
      "[1, 1, 16384, 4782969]\n",
      "[-1, 1, 32768, 14348907]\n",
      "[1, 1, 65536, 43046721]\n",
      "[-1, 1, 131072, 129140163]\n",
      "[1, 1, 262144, 387420489]\n",
      "[-1, 1, 524288, 1162261467]\n"
     ]
    }
   ],
   "source": [
    "for k in range(20) :\n",
    "    \n",
    "        pprint([eivec[j][0]**k for j in range(len(eivec))])"
   ]
  },
  {
   "cell_type": "code",
   "execution_count": 241,
   "id": "6d6c5ee4-342e-42ed-9c35-9b44caa07d64",
   "metadata": {},
   "outputs": [
    {
     "name": "stdout",
     "output_type": "stream",
     "text": [
      "[1]\n",
      "[-1, 1, 2, 3]\n",
      "[1, 4, 9]\n",
      "[-1, 1, 8, 27]\n",
      "[1, 16, 81]\n",
      "[-1, 1, 32, 243]\n",
      "[1, 64, 729]\n",
      "[-1, 1, 128, 2187]\n",
      "[1, 256, 6561]\n",
      "[-1, 1, 512, 19683]\n",
      "[1, 1024, 59049]\n",
      "[-1, 1, 2048, 177147]\n",
      "[1, 4096, 531441]\n",
      "[-1, 1, 8192, 1594323]\n",
      "[1, 16384, 4782969]\n",
      "[-1, 1, 32768, 14348907]\n",
      "[1, 65536, 43046721]\n",
      "[-1, 1, 131072, 129140163]\n",
      "[1, 262144, 387420489]\n",
      "[-1, 1, 524288, 1162261467]\n"
     ]
    }
   ],
   "source": [
    "for k in range(20) :\n",
    "    a = (A**k).eigenvects()\n",
    "    print([a[j][0] for j in range(len(a))])"
   ]
  },
  {
   "cell_type": "code",
   "execution_count": null,
   "id": "01c0e0fc-924c-4612-935c-e816eb7d56a6",
   "metadata": {},
   "outputs": [],
   "source": []
  }
 ],
 "metadata": {
  "kernelspec": {
   "display_name": "Python 3 (ipykernel)",
   "language": "python",
   "name": "python3"
  },
  "language_info": {
   "codemirror_mode": {
    "name": "ipython",
    "version": 3
   },
   "file_extension": ".py",
   "mimetype": "text/x-python",
   "name": "python",
   "nbconvert_exporter": "python",
   "pygments_lexer": "ipython3",
   "version": "3.12.4"
  }
 },
 "nbformat": 4,
 "nbformat_minor": 5
}
